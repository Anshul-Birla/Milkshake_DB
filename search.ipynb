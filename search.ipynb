{
 "cells": [
  {
   "cell_type": "code",
   "execution_count": 145,
   "metadata": {},
   "outputs": [],
   "source": [
    "import pandas as pd\n",
    "import re\n",
    "import io\n",
    "import requests"
   ]
  },
  {
   "cell_type": "code",
   "execution_count": 148,
   "metadata": {},
   "outputs": [
    {
     "data": {
      "text/html": [
       "<div>\n",
       "<style scoped>\n",
       "    .dataframe tbody tr th:only-of-type {\n",
       "        vertical-align: middle;\n",
       "    }\n",
       "\n",
       "    .dataframe tbody tr th {\n",
       "        vertical-align: top;\n",
       "    }\n",
       "\n",
       "    .dataframe thead th {\n",
       "        text-align: right;\n",
       "    }\n",
       "</style>\n",
       "<table border=\"1\" class=\"dataframe\">\n",
       "  <thead>\n",
       "    <tr style=\"text-align: right;\">\n",
       "      <th></th>\n",
       "      <th>Title</th>\n",
       "      <th>Ingredients</th>\n",
       "      <th>Steps</th>\n",
       "      <th>Link</th>\n",
       "    </tr>\n",
       "  </thead>\n",
       "  <tbody>\n",
       "    <tr>\n",
       "      <th>0</th>\n",
       "      <td>Bourbon biscuit milkshake</td>\n",
       "      <td>1 glass Chilled Milk\\n4-5 Bourbon biscuit\\n2 t...</td>\n",
       "      <td>In a mixer jar add Bourbon biscuit.grind it.\\n...</td>\n",
       "      <td>https://cookpad.com/us/recipes/12840833-bourbo...</td>\n",
       "    </tr>\n",
       "    <tr>\n",
       "      <th>1</th>\n",
       "      <td>Strawberry chocolate banana milkshake</td>\n",
       "      <td>1 banana\\n1 cup milk\\n3 cup strawberry vannill...</td>\n",
       "      <td>Blend all together in a blender til thicken to...</td>\n",
       "      <td>https://cookpad.com/us/recipes/349038-strawber...</td>\n",
       "    </tr>\n",
       "    <tr>\n",
       "      <th>2</th>\n",
       "      <td>Oreo milkshake</td>\n",
       "      <td>1 scoop Vanilla ice cream (optional)\\n1 glass ...</td>\n",
       "      <td>Gather the ingredients.\\n1 pint vanilla ice cr...</td>\n",
       "      <td>https://cookpad.com/us/recipes/13168522-oreo-m...</td>\n",
       "    </tr>\n",
       "    <tr>\n",
       "      <th>3</th>\n",
       "      <td>Mango milkshake</td>\n",
       "      <td>1 cup mango cubes\\n1 tbsp sugar\\n1 glass Milk ...</td>\n",
       "      <td>First take chopped mangoes and blend in blende...</td>\n",
       "      <td>https://cookpad.com/us/recipes/12825230-mango-...</td>\n",
       "    </tr>\n",
       "    <tr>\n",
       "      <th>4</th>\n",
       "      <td>Mint banana milkshake</td>\n",
       "      <td>2 servings\\n3 banana\\n4 ice cubes\\n3 mint leav...</td>\n",
       "      <td>Take all the ingredients and put it into the b...</td>\n",
       "      <td>https://cookpad.com/us/recipes/13195198-mint-b...</td>\n",
       "    </tr>\n",
       "  </tbody>\n",
       "</table>\n",
       "</div>"
      ],
      "text/plain": [
       "                                   Title  \\\n",
       "0              Bourbon biscuit milkshake   \n",
       "1  Strawberry chocolate banana milkshake   \n",
       "2                         Oreo milkshake   \n",
       "3                        Mango milkshake   \n",
       "4                  Mint banana milkshake   \n",
       "\n",
       "                                         Ingredients  \\\n",
       "0  1 glass Chilled Milk\\n4-5 Bourbon biscuit\\n2 t...   \n",
       "1  1 banana\\n1 cup milk\\n3 cup strawberry vannill...   \n",
       "2  1 scoop Vanilla ice cream (optional)\\n1 glass ...   \n",
       "3  1 cup mango cubes\\n1 tbsp sugar\\n1 glass Milk ...   \n",
       "4  2 servings\\n3 banana\\n4 ice cubes\\n3 mint leav...   \n",
       "\n",
       "                                               Steps  \\\n",
       "0  In a mixer jar add Bourbon biscuit.grind it.\\n...   \n",
       "1  Blend all together in a blender til thicken to...   \n",
       "2  Gather the ingredients.\\n1 pint vanilla ice cr...   \n",
       "3  First take chopped mangoes and blend in blende...   \n",
       "4  Take all the ingredients and put it into the b...   \n",
       "\n",
       "                                                Link  \n",
       "0  https://cookpad.com/us/recipes/12840833-bourbo...  \n",
       "1  https://cookpad.com/us/recipes/349038-strawber...  \n",
       "2  https://cookpad.com/us/recipes/13168522-oreo-m...  \n",
       "3  https://cookpad.com/us/recipes/12825230-mango-...  \n",
       "4  https://cookpad.com/us/recipes/13195198-mint-b...  "
      ]
     },
     "execution_count": 148,
     "metadata": {},
     "output_type": "execute_result"
    }
   ],
   "source": [
    "url = 'https://raw.githubusercontent.com/Anshul-Birla/Milkshake_DB/master/recipes.csv'\n",
    "df = pd.read_csv(url)\n",
    "df['Ingredients'] = [i.replace('Ingredients\\n', '') for i in df['Ingredients']]\n",
    "df['Steps'] = [i.replace('Steps\\n', '') for i in df['Steps']]\n",
    "df.head()"
   ]
  },
  {
   "cell_type": "code",
   "execution_count": 3,
   "metadata": {
    "scrolled": true
   },
   "outputs": [
    {
     "name": "stdout",
     "output_type": "stream",
     "text": [
      "1 glass Chilled Milk\n",
      "4-5 Bourbon biscuit\n",
      "2 tsp Chocolate syrup\n",
      "1 tsp sugar\n",
      "1/4 tsp instant coffee\n"
     ]
    }
   ],
   "source": [
    "print(df.at[0, 'Ingredients'])"
   ]
  },
  {
   "cell_type": "code",
   "execution_count": 4,
   "metadata": {},
   "outputs": [
    {
     "name": "stdout",
     "output_type": "stream",
     "text": [
      "In a mixer jar add Bourbon biscuit.grind it.\n",
      "Now add all of the ingredients and blend for 2-3 minutes.\n",
      "Transfer to a serving glass. Garnish with chocolate biscuits.Serve immediately.\n",
      "For variation you can add one scoop of icecream while blending.\n"
     ]
    }
   ],
   "source": [
    "print(df.at[0, 'Steps'])"
   ]
  },
  {
   "cell_type": "code",
   "execution_count": 42,
   "metadata": {},
   "outputs": [],
   "source": [
    "#match at least 1 criteria\n",
    "def either(ingredients):\n",
    "    regstr = '|'.join(ingredients)\n",
    "    result = df[df['Ingredients'].str.contains(regstr, flags=re.IGNORECASE, regex=True)].reset_index()\n",
    "    result = result.drop(['index'], axis = 1)\n",
    "    return result"
   ]
  },
  {
   "cell_type": "code",
   "execution_count": 43,
   "metadata": {},
   "outputs": [],
   "source": [
    "#disclude all criteria\n",
    "def none(ingredients):\n",
    "    regstr = '|'.join(ingredients)\n",
    "    result = df[~df['Ingredients'].str.contains(regstr, flags=re.IGNORECASE, regex=True)].reset_index()\n",
    "    result = result.drop(['index'], axis = 1)\n",
    "    return result"
   ]
  },
  {
   "cell_type": "code",
   "execution_count": 139,
   "metadata": {},
   "outputs": [],
   "source": [
    "#match all criteria\n",
    "def total(ingredients):\n",
    "    ingredients = ['(?=.*' + i + ')' for i in ingredients]\n",
    "    regstr = ''.join(ingredients)\n",
    "    result = df[df['Ingredients'].str.contains(regstr, flags=re.IGNORECASE | re.DOTALL, regex=True)].reset_index()\n",
    "    result = result.drop(['index'], axis = 1)\n",
    "    return result"
   ]
  },
  {
   "cell_type": "code",
   "execution_count": 45,
   "metadata": {},
   "outputs": [
    {
     "name": "stdout",
     "output_type": "stream",
     "text": [
      "1 glass Chilled Milk\n",
      "4-5 Bourbon biscuit\n",
      "2 tsp Chocolate syrup\n",
      "1 tsp sugar\n",
      "1/4 tsp instant coffee\n"
     ]
    }
   ],
   "source": [
    "ex = either(['Strawberry', 'Coffee'])\n",
    "print(ex.at[0, 'Ingredients'])"
   ]
  },
  {
   "cell_type": "code",
   "execution_count": 46,
   "metadata": {},
   "outputs": [
    {
     "name": "stdout",
     "output_type": "stream",
     "text": [
      "1 serving\n",
      "1 cup frozen strawberries\n",
      "1 cup vanilla ice cream\n",
      "2 shortbread cookies, crushed\n"
     ]
    }
   ],
   "source": [
    "ex = none(['Milk'])\n",
    "print(ex.at[0, 'Ingredients'])"
   ]
  },
  {
   "cell_type": "code",
   "execution_count": 140,
   "metadata": {},
   "outputs": [
    {
     "name": "stdout",
     "output_type": "stream",
     "text": [
      "1 glass Chilled Milk\n",
      "4-5 Bourbon biscuit\n",
      "2 tsp Chocolate syrup\n",
      "1 tsp sugar\n",
      "1/4 tsp instant coffee\n"
     ]
    }
   ],
   "source": [
    "ex = total(['Chocolate', 'Coffee'])\n",
    "print(ex.at[0, 'Ingredients'])"
   ]
  }
 ],
 "metadata": {
  "kernelspec": {
   "display_name": "Python 3",
   "language": "python",
   "name": "python3"
  },
  "language_info": {
   "codemirror_mode": {
    "name": "ipython",
    "version": 3
   },
   "file_extension": ".py",
   "mimetype": "text/x-python",
   "name": "python",
   "nbconvert_exporter": "python",
   "pygments_lexer": "ipython3",
   "version": "3.7.6"
  }
 },
 "nbformat": 4,
 "nbformat_minor": 4
}
